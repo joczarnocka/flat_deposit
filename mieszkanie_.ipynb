{
 "cells": [
  {
   "cell_type": "code",
   "execution_count": 33,
   "id": "f44ef646",
   "metadata": {},
   "outputs": [],
   "source": [
    "import numpy as np\n",
    "import numpy_financial as npf\n",
    "import matplotlib.pyplot as plt"
   ]
  },
  {
   "cell_type": "markdown",
   "id": "4212f754",
   "metadata": {},
   "source": [
    "Ile będzie wynosiła orientacyjna cena mieszkania za 5 lat?"
   ]
  },
  {
   "cell_type": "code",
   "execution_count": 74,
   "id": "8516d2aa",
   "metadata": {},
   "outputs": [],
   "source": [
    "flat_price = 120000"
   ]
  },
  {
   "cell_type": "code",
   "execution_count": 4,
   "id": "1e772536",
   "metadata": {},
   "outputs": [],
   "source": [
    "flat_price_incr_rate_per_annum = 0.05"
   ]
  },
  {
   "cell_type": "code",
   "execution_count": 35,
   "id": "c9781765",
   "metadata": {},
   "outputs": [],
   "source": [
    "number_of_years = 5"
   ]
  },
  {
   "cell_type": "code",
   "execution_count": 36,
   "id": "eec14206",
   "metadata": {},
   "outputs": [
    {
     "data": {
      "text/plain": [
       "153154"
      ]
     },
     "execution_count": 36,
     "metadata": {},
     "output_type": "execute_result"
    }
   ],
   "source": [
    "flat_price_in_5_years = round(flat_price * (1+flat_price_incr_rate_per_annum) ** number_of_years)\n",
    "flat_price_in_5_years"
   ]
  },
  {
   "cell_type": "code",
   "execution_count": 75,
   "id": "e42aa5aa",
   "metadata": {},
   "outputs": [
    {
     "name": "stdout",
     "output_type": "stream",
     "text": [
      "Cena mieszkania po 5 latach - 153154 PLN\n"
     ]
    }
   ],
   "source": [
    "print(f'Cena mieszkania po {number_of_years} latach - {flat_price_in_5_years} PLN')"
   ]
  },
  {
   "cell_type": "code",
   "execution_count": 44,
   "id": "29779e49",
   "metadata": {},
   "outputs": [],
   "source": [
    "freq = 12\n",
    "rate = 0.12\n",
    "years = number_of_years\n",
    "pv = flat_price_in_5_years"
   ]
  },
  {
   "cell_type": "code",
   "execution_count": 45,
   "id": "2e1ab828",
   "metadata": {},
   "outputs": [],
   "source": [
    "rate /= freq  # konwersja stopy do okresu miesięcznego\n",
    "nper = years * freq  # liczba wszystkich okresów"
   ]
  },
  {
   "cell_type": "code",
   "execution_count": 68,
   "id": "4ec7a5d6",
   "metadata": {},
   "outputs": [
    {
     "name": "stdout",
     "output_type": "stream",
     "text": [
      "Stała wplata przez 5 lat - 1875 PLN\n"
     ]
    }
   ],
   "source": [
    "pmt = -round(npf.pmt(rate, nper, 0, fv=flat_price_in_5_years, when='end')) # round(npf.pmt(rate, nper, flat_price_in_5_years, when='end'))\n",
    "print(f'Stała wplata przez {number_of_years} lat - {pmt} PLN')"
   ]
  },
  {
   "cell_type": "code",
   "execution_count": 83,
   "id": "ec713179",
   "metadata": {},
   "outputs": [
    {
     "data": {
      "text/plain": [
       "array([ 1,  2,  3,  4,  5,  6,  7,  8,  9, 10, 11, 12, 13, 14, 15, 16, 17,\n",
       "       18, 19, 20, 21, 22, 23, 24, 25, 26, 27, 28, 29, 30, 31, 32, 33, 34,\n",
       "       35, 36, 37, 38, 39, 40, 41, 42, 43, 44, 45, 46, 47, 48, 49, 50, 51,\n",
       "       52, 53, 54, 55, 56, 57, 58, 59, 60])"
      ]
     },
     "execution_count": 83,
     "metadata": {},
     "output_type": "execute_result"
    }
   ],
   "source": [
    "periods = np.arange(1,nper+1,dtype=int)\n",
    "periods"
   ]
  },
  {
   "cell_type": "code",
   "execution_count": 84,
   "id": "5a9ec1cb",
   "metadata": {},
   "outputs": [],
   "source": [
    "x2 = periods"
   ]
  },
  {
   "cell_type": "code",
   "execution_count": 85,
   "id": "851c8ea5",
   "metadata": {},
   "outputs": [],
   "source": [
    "y2 = []\n",
    "savings=0\n",
    "payment = pmt\n",
    "\n",
    "for i in range(nper):\n",
    "    savings = savings * (1+rate) + payment\n",
    "    y2.append(savings)"
   ]
  },
  {
   "cell_type": "code",
   "execution_count": 86,
   "id": "a8280e6d",
   "metadata": {},
   "outputs": [],
   "source": [
    "flat_price_sequence = []\n",
    "initial_price= flat_price\n",
    "next_price = initial_price\n",
    "for i in range(number_of_years+1):\n",
    "    flat_price_sequence.append(round(next_price))\n",
    "    next_price = next_price * (1 + flat_price_incr_rate_per_annum )\n",
    "x=[0,60]\n",
    "y = [flat_price_sequence[0],flat_price_sequence[-1]]"
   ]
  },
  {
   "cell_type": "code",
   "execution_count": 82,
   "id": "a5f2093c",
   "metadata": {},
   "outputs": [
    {
     "data": {
      "text/plain": [
       "Text(0, 0.5, 'Skumulowana wartość lokaty')"
      ]
     },
     "execution_count": 82,
     "metadata": {},
     "output_type": "execute_result"
    },
    {
     "data": {
      "image/png": "[encoded data removed]",
      "text/plain": [
       "<Figure size 432x288 with 1 Axes>"
      ]
     },
     "metadata": {
      "needs_background": "light"
     },
     "output_type": "display_data"
    }
   ],
   "source": [
    "#plt.plot(payments,label='wpłaty równe')\n",
    "plt.plot(x2, y2,label=\"lokata = wpłaty równe + odsetki\")\n",
    "plt.plot(x, y,label=\"cena mieszkania\")\n",
    "#plt.plot(np.array(flat_price_sequence),label=\"cena mieszkania\")\n",
    "plt.legend()\n",
    "plt.xlabel('Liczba okresów')\n",
    "plt.ylabel('Skumulowana wartość lokaty')"
   ]
  }
 ],
 "metadata": {
  "kernelspec": {
   "display_name": "Python 3 (ipykernel)",
   "language": "python",
   "name": "python3"
  },
  "language_info": {
   "codemirror_mode": {
    "name": "ipython",
    "version": 3
   },
   "file_extension": ".py",
   "mimetype": "text/x-python",
   "name": "python",
   "nbconvert_exporter": "python",
   "pygments_lexer": "ipython3",
   "version": "3.9.12"
  },
  "toc": {
   "base_numbering": 1,
   "nav_menu": {},
   "number_sections": true,
   "sideBar": true,
   "skip_h1_title": true,
   "title_cell": "Table of Contents",
   "title_sidebar": "Contents",
   "toc_cell": false,
   "toc_position": {},
   "toc_section_display": true,
   "toc_window_display": false
  },
  "varInspector": {
   "cols": {
    "lenName": 16,
    "lenType": 16,
    "lenVar": 40
   },
   "kernels_config": {
    "python": {
     "delete_cmd_postfix": "",
     "delete_cmd_prefix": "del ",
     "library": "var_list.py",
     "varRefreshCmd": "print(var_dic_list())"
    },
    "r": {
     "delete_cmd_postfix": ") ",
     "delete_cmd_prefix": "rm(",
     "library": "var_list.r",
     "varRefreshCmd": "cat(var_dic_list()) "
    }
   },
   "types_to_exclude": [
    "module",
    "function",
    "builtin_function_or_method",
    "instance",
    "_Feature"
   ],
   "window_display": false
  }
 },
 "nbformat": 4,
 "nbformat_minor": 5
}
