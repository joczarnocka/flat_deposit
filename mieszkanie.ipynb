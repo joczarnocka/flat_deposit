{
 "cells": [
  {
   "cell_type": "code",
   "execution_count": 48,
   "id": "f44ef646",
   "metadata": {},
   "outputs": [],
   "source": [
    "# https://numpy.org/numpy-financial/latest/ipmt.html#numpy_financial.ipmt\n",
    "import numpy as np\n",
    "import numpy_financial as npf\n",
    "import matplotlib.pyplot as plt"
   ]
  },
  {
   "cell_type": "markdown",
   "id": "4212f754",
   "metadata": {},
   "source": [
    "Ile będzie wynosiła orientacyjna cena mieszkania za 5 lat?"
   ]
  },
  {
   "cell_type": "code",
   "execution_count": 1,
   "id": "8516d2aa",
   "metadata": {},
   "outputs": [],
   "source": [
    "flat_price = 120000"
   ]
  },
  {
   "cell_type": "code",
   "execution_count": 3,
   "id": "1e772536",
   "metadata": {},
   "outputs": [],
   "source": [
    "flat_price_incr_rate_per_annum = 0.05"
   ]
  },
  {
   "cell_type": "code",
   "execution_count": 4,
   "id": "c9781765",
   "metadata": {},
   "outputs": [],
   "source": [
    "number_of_years = 5"
   ]
  },
  {
   "cell_type": "code",
   "execution_count": 7,
   "id": "fc7c6492",
   "metadata": {},
   "outputs": [
    {
     "data": {
      "text/plain": [
       "153154"
      ]
     },
     "execution_count": 7,
     "metadata": {},
     "output_type": "execute_result"
    }
   ],
   "source": [
    "flat_price_in_5_years = -round(npf.fv(flat_price_incr_rate_per_annum, number_of_years, 0, flat_price, when='end'))\n",
    "flat_price_in_5_years"
   ]
  },
  {
   "cell_type": "code",
   "execution_count": 75,
   "id": "e42aa5aa",
   "metadata": {},
   "outputs": [
    {
     "name": "stdout",
     "output_type": "stream",
     "text": [
      "Cena mieszkania po 5 latach - 153154 PLN\n"
     ]
    }
   ],
   "source": [
    "print(f'Cena mieszkania po {number_of_years} latach - {flat_price_in_5_years} PLN')"
   ]
  },
  {
   "cell_type": "code",
   "execution_count": 9,
   "id": "29779e49",
   "metadata": {},
   "outputs": [],
   "source": [
    "freq = 12\n",
    "rate = 0.12\n",
    "years = number_of_years\n",
    "pv = flat_price_in_5_years"
   ]
  },
  {
   "cell_type": "code",
   "execution_count": 10,
   "id": "2e1ab828",
   "metadata": {},
   "outputs": [],
   "source": [
    "rate /= freq  # konwersja stopy do okresu miesięcznego\n",
    "nper = years * freq  # liczba wszystkich okresów"
   ]
  },
  {
   "cell_type": "code",
   "execution_count": 11,
   "id": "4ec7a5d6",
   "metadata": {},
   "outputs": [
    {
     "name": "stdout",
     "output_type": "stream",
     "text": [
      "Stała wplata przez 5 lat - 1875 PLN\n"
     ]
    }
   ],
   "source": [
    "pmt = -round(npf.pmt(rate, nper, 0, fv=flat_price_in_5_years, when='end')) # round(npf.pmt(rate, nper, flat_price_in_5_years, when='end'))\n",
    "print(f'Stała wplata przez {number_of_years} lat - {pmt} PLN')"
   ]
  },
  {
   "cell_type": "code",
   "execution_count": 41,
   "id": "ec713179",
   "metadata": {},
   "outputs": [
    {
     "data": {
      "text/plain": [
       "array([ 1,  2,  3,  4,  5,  6,  7,  8,  9, 10, 11, 12, 13, 14, 15, 16, 17,\n",
       "       18, 19, 20, 21, 22, 23, 24, 25, 26, 27, 28, 29, 30, 31, 32, 33, 34,\n",
       "       35, 36, 37, 38, 39, 40, 41, 42, 43, 44, 45, 46, 47, 48, 49, 50, 51,\n",
       "       52, 53, 54, 55, 56, 57, 58, 59, 60])"
      ]
     },
     "execution_count": 41,
     "metadata": {},
     "output_type": "execute_result"
    }
   ],
   "source": [
    "periods = np.arange(1,nper+1,dtype=int)\n",
    "periods"
   ]
  },
  {
   "cell_type": "code",
   "execution_count": 42,
   "id": "ee5aa22a",
   "metadata": {},
   "outputs": [
    {
     "data": {
      "text/plain": [
       "array([  -0.,   19.,   38.,   57.,   76.,   96.,  115.,  135.,  155.,\n",
       "        176.,  196.,  217.,  238.,  259.,  280.,  302.,  324.,  346.,\n",
       "        368.,  390.,  413.,  436.,  459.,  482.,  506.,  530.,  554.,\n",
       "        578.,  603.,  627.,  652.,  678.,  703.,  729.,  755.,  781.,\n",
       "        808.,  835.,  862.,  889.,  917.,  945.,  973., 1001., 1030.,\n",
       "       1059., 1089., 1118., 1148., 1178., 1209., 1240., 1271., 1302.,\n",
       "       1334., 1366., 1399., 1431., 1464., 1498.])"
      ]
     },
     "execution_count": 42,
     "metadata": {},
     "output_type": "execute_result"
    }
   ],
   "source": [
    "# numpy_financial.ipmt(rate, per, nper, pv, fv=0, when='end')\n",
    "interest_portion = np.round(npf.ipmt(rate, periods, nper, 0, flat_price_in_5_years, 'end'))\n",
    "interest_portion"
   ]
  },
  {
   "cell_type": "code",
   "execution_count": 43,
   "id": "3904d9f0",
   "metadata": {},
   "outputs": [
    {
     "data": {
      "text/plain": [
       "array([1875., 1894., 1913., 1932., 1951., 1971., 1990., 2010., 2030.,\n",
       "       2051., 2071., 2092., 2113., 2134., 2155., 2177., 2199., 2221.,\n",
       "       2243., 2265., 2288., 2311., 2334., 2357., 2381., 2405., 2429.,\n",
       "       2453., 2478., 2502., 2527., 2553., 2578., 2604., 2630., 2656.,\n",
       "       2683., 2710., 2737., 2764., 2792., 2820., 2848., 2876., 2905.,\n",
       "       2934., 2964., 2993., 3023., 3053., 3084., 3115., 3146., 3177.,\n",
       "       3209., 3241., 3274., 3306., 3339., 3373.])"
      ]
     },
     "execution_count": 43,
     "metadata": {},
     "output_type": "execute_result"
    }
   ],
   "source": [
    "capital = interest_portion + pmt\n",
    "capital"
   ]
  },
  {
   "cell_type": "code",
   "execution_count": 49,
   "id": "a8280e6d",
   "metadata": {},
   "outputs": [],
   "source": [
    "x=[0,59]\n",
    "y = [flat_price,flat_price_in_5_years]"
   ]
  },
  {
   "cell_type": "code",
   "execution_count": 50,
   "id": "a5f2093c",
   "metadata": {},
   "outputs": [
    {
     "data": {
      "text/plain": [
       "Text(0, 0.5, 'Skumulowana wartość lokaty')"
      ]
     },
     "execution_count": 50,
     "metadata": {},
     "output_type": "execute_result"
    },
    {
     "data": {
      "image/png": "[encoded data removed]",
      "text/plain": [
       "<Figure size 432x288 with 1 Axes>"
      ]
     },
     "metadata": {
      "needs_background": "light"
     },
     "output_type": "display_data"
    }
   ],
   "source": [
    "plt.plot(capital.cumsum(), label=\"lokata = wpłaty równe + odsetki\")\n",
    "plt.plot(x, y,label=\"cena mieszkania\")\n",
    "plt.legend()\n",
    "plt.xlabel('Liczba okresów')\n",
    "plt.ylabel('Skumulowana wartość lokaty')"
   ]
  },
  {
   "cell_type": "code",
   "execution_count": null,
   "id": "e47aa967",
   "metadata": {},
   "outputs": [],
   "source": []
  }
 ],
 "metadata": {
  "kernelspec": {
   "display_name": "Python 3 (ipykernel)",
   "language": "python",
   "name": "python3"
  },
  "language_info": {
   "codemirror_mode": {
    "name": "ipython",
    "version": 3
   },
   "file_extension": ".py",
   "mimetype": "text/x-python",
   "name": "python",
   "nbconvert_exporter": "python",
   "pygments_lexer": "ipython3",
   "version": "3.9.12"
  },
  "toc": {
   "base_numbering": 1,
   "nav_menu": {},
   "number_sections": true,
   "sideBar": true,
   "skip_h1_title": true,
   "title_cell": "Table of Contents",
   "title_sidebar": "Contents",
   "toc_cell": false,
   "toc_position": {},
   "toc_section_display": true,
   "toc_window_display": false
  },
  "varInspector": {
   "cols": {
    "lenName": 16,
    "lenType": 16,
    "lenVar": 40
   },
   "kernels_config": {
    "python": {
     "delete_cmd_postfix": "",
     "delete_cmd_prefix": "del ",
     "library": "var_list.py",
     "varRefreshCmd": "print(var_dic_list())"
    },
    "r": {
     "delete_cmd_postfix": ") ",
     "delete_cmd_prefix": "rm(",
     "library": "var_list.r",
     "varRefreshCmd": "cat(var_dic_list()) "
    }
   },
   "types_to_exclude": [
    "module",
    "function",
    "builtin_function_or_method",
    "instance",
    "_Feature"
   ],
   "window_display": false
  }
 },
 "nbformat": 4,
 "nbformat_minor": 5
}
